{
 "cells": [
  {
   "cell_type": "markdown",
   "metadata": {},
   "source": [
    "# 回归"
   ]
  },
  {
   "cell_type": "markdown",
   "metadata": {},
   "source": [
    "## 读入文件"
   ]
  },
  {
   "cell_type": "code",
   "execution_count": 67,
   "metadata": {},
   "outputs": [],
   "source": [
    "import netCDF4  # netCDF4非Python自带包，需要自行下载\n",
    "\n",
    "import numpy as np\n",
    "\n",
    "f = netCDF4.Dataset('D:\\\\sst.mnmean.nc')  # ftp://ftp.cdc.noaa.gov/Datasets/noaa.ersst.v5/sst.mnmean.nc\n",
    "SST = f.variables['sst'][:, :, :].data"
   ]
  },
  {
   "cell_type": "code",
   "execution_count": 68,
   "metadata": {},
   "outputs": [
    {
     "data": {
      "text/plain": [
       "(1982, 89, 180)"
      ]
     },
     "execution_count": 68,
     "metadata": {},
     "output_type": "execute_result"
    }
   ],
   "source": [
    "'''\n",
    "从1854年1月到2019年2月，总计1982个月;\n",
    "栅格中心点从88°N到-88°N（88°S），0°到358°E（2°W）;\n",
    "栅格大小为2°×2°\n",
    "'''\n",
    "np.shape(SST) "
   ]
  },
  {
   "cell_type": "code",
   "execution_count": 70,
   "metadata": {},
   "outputs": [
    {
     "name": "stdout",
     "output_type": "stream",
     "text": [
      "27.236326\n",
      "28.912207\n",
      "26.859951\n",
      "29.2531\n",
      "27.29979\n",
      "3.3593714\n",
      "25.75996\n",
      "20.125439\n",
      "16.212143\n",
      "6.4317055\n"
     ]
    }
   ],
   "source": [
    "# 134, 44 表示（134 * 2）°E→92°W, （88 - 44 * 2）°N→0°\n",
    "loc = ((134, 44), \\\n",
    "       (94, 44), \\\n",
    "       (57, 37), \\\n",
    "       (39, 44), \\\n",
    "       (21, 36), \\\n",
    "       (9, 16), \\\n",
    "       (172, 59), \\\n",
    "       (158, 28), \\\n",
    "       (65, 64), \\\n",
    "       (0, 10))\n",
    "\n",
    "for row in loc:\n",
    "    print(SST[-1, row[1], row[0]])"
   ]
  },
  {
   "cell_type": "code",
   "execution_count": 71,
   "metadata": {},
   "outputs": [
    {
     "data": {
      "text/plain": [
       "42.32636"
      ]
     },
     "execution_count": 71,
     "metadata": {},
     "output_type": "execute_result"
    }
   ],
   "source": [
    "SST.max()"
   ]
  },
  {
   "cell_type": "code",
   "execution_count": 72,
   "metadata": {},
   "outputs": [
    {
     "data": {
      "text/plain": [
       "-9.96921e+36"
      ]
     },
     "execution_count": 72,
     "metadata": {},
     "output_type": "execute_result"
    }
   ],
   "source": [
    "SST.min()"
   ]
  },
  {
   "cell_type": "code",
   "execution_count": 73,
   "metadata": {},
   "outputs": [
    {
     "data": {
      "text/plain": [
       "-1.8"
      ]
     },
     "execution_count": 73,
     "metadata": {},
     "output_type": "execute_result"
    }
   ],
   "source": [
    "SST[SST == SST.min()] = 999999\n",
    "SST.min()"
   ]
  },
  {
   "cell_type": "code",
   "execution_count": 74,
   "metadata": {},
   "outputs": [
    {
     "data": {
      "text/plain": [
       "10988.0"
      ]
     },
     "execution_count": 74,
     "metadata": {},
     "output_type": "execute_result"
    }
   ],
   "source": [
    "A = SST < 999999  # 1表示海洋，0表示陆地\n",
    "A = np.average(A, axis = 0)\n",
    "np.sum(A)"
   ]
  },
  {
   "cell_type": "markdown",
   "metadata": {},
   "source": [
    "## 数据预处理"
   ]
  },
  {
   "cell_type": "code",
   "execution_count": 75,
   "metadata": {},
   "outputs": [
    {
     "name": "stdout",
     "output_type": "stream",
     "text": [
      "0 10 : 1511\n",
      "9 16 : 1925\n",
      "158 28 : 3160\n",
      "21 36 : 4012\n",
      "57 37 : 4174\n",
      "39 44 : 5164\n",
      "94 44 : 5215\n",
      "134 44 : 5255\n",
      "172 59 : 7401\n",
      "65 64 : 8129\n"
     ]
    }
   ],
   "source": [
    "new_SST = np.zeros((len(SST), int(np.sum(A))))  # 合并SST数据从一个三维数组到一个二维数组\n",
    "\n",
    "s = 0\n",
    "\n",
    "for i in range(89):\n",
    "    for j in range(180):\n",
    "        if A[i, j] == 1:\n",
    "            if (j, i) in loc:\n",
    "                print(j, i, ':', s)\n",
    "            new_SST[:, s] += SST[:, i, j]\n",
    "            s += 1"
   ]
  },
  {
   "cell_type": "code",
   "execution_count": 76,
   "metadata": {},
   "outputs": [],
   "source": [
    "new_SST = new_SST[-1202:-2]  # 选取1919年1月至2018年12月1200个月的数据"
   ]
  },
  {
   "cell_type": "markdown",
   "metadata": {},
   "source": [
    "## 求月平均"
   ]
  },
  {
   "cell_type": "code",
   "execution_count": 77,
   "metadata": {},
   "outputs": [
    {
     "data": {
      "text/plain": [
       "array([   0,   12,   24,   36,   48,   60,   72,   84,   96,  108,  120,\n",
       "        132,  144,  156,  168,  180,  192,  204,  216,  228,  240,  252,\n",
       "        264,  276,  288,  300,  312,  324,  336,  348,  360,  372,  384,\n",
       "        396,  408,  420,  432,  444,  456,  468,  480,  492,  504,  516,\n",
       "        528,  540,  552,  564,  576,  588,  600,  612,  624,  636,  648,\n",
       "        660,  672,  684,  696,  708,  720,  732,  744,  756,  768,  780,\n",
       "        792,  804,  816,  828,  840,  852,  864,  876,  888,  900,  912,\n",
       "        924,  936,  948,  960,  972,  984,  996, 1008, 1020, 1032, 1044,\n",
       "       1056, 1068, 1080, 1092, 1104, 1116, 1128, 1140, 1152, 1164, 1176,\n",
       "       1188])"
      ]
     },
     "execution_count": 77,
     "metadata": {},
     "output_type": "execute_result"
    }
   ],
   "source": [
    "month_mean = np.zeros((12, int(np.sum(A))))\n",
    "month_s = np.arange(0, 1200, 12)\n",
    "month_s"
   ]
  },
  {
   "cell_type": "code",
   "execution_count": 78,
   "metadata": {},
   "outputs": [
    {
     "data": {
      "text/plain": [
       "array([ 3.82858563,  2.70515369,  2.5106136 ,  3.79849035,  7.37022211,\n",
       "       12.43795303, 16.50817428, 17.54718121, 14.94804304, 11.39447208,\n",
       "        8.28368125,  5.8330507 ])"
      ]
     },
     "execution_count": 78,
     "metadata": {},
     "output_type": "execute_result"
    }
   ],
   "source": [
    "for i in range(12):\n",
    "    month_mean[i] = np.copy(np.average(new_SST[month_s + i, :], axis = 0))\n",
    "month_mean[:, 1925]  # 波罗的海某处海域100年月平均海温"
   ]
  },
  {
   "cell_type": "markdown",
   "metadata": {},
   "source": [
    "注意，此处是对全部数据（训练集+验证集）取得月平均，但在实际情况下，只能对训练集取月平均，因为验证集数据不能在训练中使用"
   ]
  },
  {
   "cell_type": "code",
   "execution_count": 79,
   "metadata": {},
   "outputs": [],
   "source": [
    "for i in range(12):\n",
    "    new_SST[month_s + i, :] -= month_mean[i]  # 每月减掉月平均"
   ]
  },
  {
   "cell_type": "markdown",
   "metadata": {},
   "source": [
    "## 整理为时间序列"
   ]
  },
  {
   "cell_type": "code",
   "execution_count": 80,
   "metadata": {},
   "outputs": [
    {
     "data": {
      "text/plain": [
       "(1188, 131856)"
      ]
     },
     "execution_count": 80,
     "metadata": {},
     "output_type": "execute_result"
    }
   ],
   "source": [
    "p = 12  # p为时间序列的长度\n",
    "X = np.zeros((len(new_SST) - p, 10988 * p))\n",
    "np.shape(X)"
   ]
  },
  {
   "cell_type": "code",
   "execution_count": 130,
   "metadata": {},
   "outputs": [],
   "source": [
    "for i in range(p):\n",
    "    for j in range(10988):\n",
    "        X[:, i * 10988 + j] = np.copy(new_SST[i:1200-p+i, j])\n",
    "y = np.copy(new_SST[p:, 1925])"
   ]
  },
  {
   "cell_type": "markdown",
   "metadata": {},
   "source": [
    "## PCA"
   ]
  },
  {
   "cell_type": "markdown",
   "metadata": {},
   "source": [
    "更多关于sklearn的教程访问https://scikit-learn.org/stable/index.html"
   ]
  },
  {
   "cell_type": "code",
   "execution_count": 86,
   "metadata": {},
   "outputs": [
    {
     "data": {
      "text/plain": [
       "(131856,)"
      ]
     },
     "execution_count": 86,
     "metadata": {},
     "output_type": "execute_result"
    }
   ],
   "source": [
    "from sklearn.decomposition import PCA\n",
    "\n",
    "pca = PCA(n_components=100)  # 设置PCA想要降到的维数\n",
    "\n",
    "X_mean = np.average(X, axis = 0)  # 对每个变量求平均值\n",
    "\n",
    "np.shape(X_mean)"
   ]
  },
  {
   "cell_type": "code",
   "execution_count": 87,
   "metadata": {},
   "outputs": [
    {
     "data": {
      "text/plain": [
       "PCA(copy=True, iterated_power='auto', n_components=100, random_state=None,\n",
       "  svd_solver='auto', tol=0.0, whiten=False)"
      ]
     },
     "execution_count": 87,
     "metadata": {},
     "output_type": "execute_result"
    }
   ],
   "source": [
    "X -= X_mean  # 做PCA前需要先减掉均值\n",
    "pca.fit(X)"
   ]
  },
  {
   "cell_type": "markdown",
   "metadata": {},
   "source": [
    "注意，此处是对全部数据做PCA，但实际情况下只能对训练数据做PCA"
   ]
  },
  {
   "cell_type": "code",
   "execution_count": 90,
   "metadata": {},
   "outputs": [
    {
     "data": {
      "text/plain": [
       "array([0.17053385, 0.06945562, 0.03655253, 0.02804149, 0.01945243,\n",
       "       0.01653311, 0.01533042, 0.01208452, 0.01197686, 0.01161306,\n",
       "       0.0105101 , 0.00990932, 0.0088608 , 0.00844643, 0.00796712,\n",
       "       0.00763522, 0.00732797, 0.00689304, 0.00678529, 0.00659345,\n",
       "       0.00644957, 0.00617663, 0.00601633, 0.0057301 , 0.00568446,\n",
       "       0.00552521, 0.00541347, 0.00529244, 0.00522196, 0.00516523,\n",
       "       0.00498095, 0.00492239, 0.00480719, 0.00472453, 0.00459506,\n",
       "       0.00445903, 0.00429184, 0.00419281, 0.00408098, 0.00396984,\n",
       "       0.00385754, 0.00383372, 0.00376115, 0.00368804, 0.00351464,\n",
       "       0.00337239, 0.00329037, 0.00325257, 0.003178  , 0.0031073 ,\n",
       "       0.00304018, 0.00300429, 0.00295057, 0.00292768, 0.00286978,\n",
       "       0.00281226, 0.0027259 , 0.0027017 , 0.00265362, 0.00260219,\n",
       "       0.00257846, 0.00254121, 0.00250617, 0.00248451, 0.00242527,\n",
       "       0.00240268, 0.00239685, 0.00238259, 0.00233003, 0.00228865,\n",
       "       0.00226014, 0.00222308, 0.00220616, 0.00216058, 0.00214754,\n",
       "       0.00210347, 0.0020821 , 0.00204125, 0.00202512, 0.00199038,\n",
       "       0.00198804, 0.00196952, 0.00193556, 0.00191472, 0.00189387,\n",
       "       0.00187934, 0.00186557, 0.00185079, 0.00180496, 0.0017912 ,\n",
       "       0.00177492, 0.00175318, 0.00172792, 0.00170424, 0.00167906,\n",
       "       0.00165558, 0.00164111, 0.00161775, 0.00158106, 0.00157959])"
      ]
     },
     "execution_count": 90,
     "metadata": {},
     "output_type": "execute_result"
    }
   ],
   "source": [
    "pca.explained_variance_ratio_"
   ]
  },
  {
   "cell_type": "code",
   "execution_count": 92,
   "metadata": {},
   "outputs": [],
   "source": [
    "new_X = pca.fit_transform(X)  # 将X降至100维的new_X"
   ]
  },
  {
   "cell_type": "markdown",
   "metadata": {},
   "source": [
    "## 线性回归"
   ]
  },
  {
   "cell_type": "code",
   "execution_count": 137,
   "metadata": {},
   "outputs": [
    {
     "data": {
      "text/plain": [
       "LinearRegression(copy_X=True, fit_intercept=True, n_jobs=1, normalize=False)"
      ]
     },
     "execution_count": 137,
     "metadata": {},
     "output_type": "execute_result"
    }
   ],
   "source": [
    "from sklearn import linear_model\n",
    "\n",
    "reg = linear_model.LinearRegression()\n",
    "\n",
    "reg.fit(new_X, y)"
   ]
  },
  {
   "cell_type": "code",
   "execution_count": 139,
   "metadata": {},
   "outputs": [],
   "source": [
    "y_fore = np.sum(new_X * reg.coef_, axis=1) + reg.intercept_  # 注意此时y是距平后的y"
   ]
  },
  {
   "cell_type": "code",
   "execution_count": 140,
   "metadata": {},
   "outputs": [
    {
     "data": {
      "text/plain": [
       "0.5818437105791892"
      ]
     },
     "execution_count": 140,
     "metadata": {},
     "output_type": "execute_result"
    }
   ],
   "source": [
    "np.average(abs(y_fore - y))  # MAE"
   ]
  },
  {
   "cell_type": "code",
   "execution_count": 141,
   "metadata": {},
   "outputs": [
    {
     "data": {
      "text/plain": [
       "0.7356869704092893"
      ]
     },
     "execution_count": 141,
     "metadata": {},
     "output_type": "execute_result"
    }
   ],
   "source": [
    "np.average((y_fore - y) ** 2) ** 0.5  #RMSE"
   ]
  },
  {
   "cell_type": "code",
   "execution_count": 142,
   "metadata": {},
   "outputs": [],
   "source": [
    "y_true = np.copy(y)\n",
    "for i in range(12):\n",
    "    y_true[month_s[:-1] + i] += month_mean[i, 1925]\n",
    "    y_fore[month_s[:-1] + i] += month_mean[i, 1925]"
   ]
  },
  {
   "cell_type": "code",
   "execution_count": 143,
   "metadata": {},
   "outputs": [
    {
     "data": {
      "text/plain": [
       "0.9812245843802776"
      ]
     },
     "execution_count": 143,
     "metadata": {},
     "output_type": "execute_result"
    }
   ],
   "source": [
    "1 - np.sum((y_fore - y_true) ** 2) / np.sum((y_true - np.average(y_true)) ** 2)  # 还原y后做NSE"
   ]
  },
  {
   "cell_type": "markdown",
   "metadata": {},
   "source": [
    "## 交叉验证"
   ]
  },
  {
   "cell_type": "code",
   "execution_count": 146,
   "metadata": {},
   "outputs": [
    {
     "data": {
      "text/plain": [
       "array([-1.22041248, -1.50091526, -1.1983714 , -0.80604046, -1.1666982 ,\n",
       "       -0.84625854, -0.75093762, -1.00802402, -0.68830928, -0.7926849 ])"
      ]
     },
     "execution_count": 146,
     "metadata": {},
     "output_type": "execute_result"
    }
   ],
   "source": [
    "import sklearn.model_selection as sk_model_selection\n",
    "\n",
    "sk_model_selection.cross_val_score(reg, new_X, np.array([y]).T, scoring='neg_mean_squared_error', cv = 10)  # 10折RMSE"
   ]
  },
  {
   "cell_type": "code",
   "execution_count": 147,
   "metadata": {},
   "outputs": [
    {
     "data": {
      "text/plain": [
       "array([-0.89187518, -0.97277393, -0.82996782, -0.73620573, -0.86147554,\n",
       "       -0.74021235, -0.70602609, -0.77289089, -0.66517877, -0.68821656])"
      ]
     },
     "execution_count": 147,
     "metadata": {},
     "output_type": "execute_result"
    }
   ],
   "source": [
    "sk_model_selection.cross_val_score(reg, new_X, np.array([y]).T, scoring='neg_mean_absolute_error', cv = 10)  # 10折MAE"
   ]
  },
  {
   "cell_type": "markdown",
   "metadata": {},
   "source": [
    "## LASSO回归"
   ]
  },
  {
   "cell_type": "code",
   "execution_count": 153,
   "metadata": {},
   "outputs": [
    {
     "name": "stdout",
     "output_type": "stream",
     "text": [
      "1e-05 0.9989273870321032 0.786478051450857\n",
      "0.0001 0.9988854713808079 0.7864398796940597\n",
      "0.001 0.9984706495858549 0.7860595169930045\n",
      "0.01 0.9946307551431194 0.7825272186430725\n",
      "0.1 0.9781352874496574 0.7681469267044095\n",
      "1 1.0209880186191678 0.8043228140602429\n",
      "100 1.1288610004990325 0.8883027853272513\n",
      "1000 1.1288610004990325 0.8883027853272513\n"
     ]
    }
   ],
   "source": [
    "reg = linear_model.LinearRegression()\n",
    "\n",
    "for i in (0.00001, 0.0001, 0.001, 0.01, 0.1, 1, 100, 1000):\n",
    "    reg = linear_model.Lasso(alpha=i, max_iter=10000)\n",
    "    print(i, abs(np.mean(sk_model_selection.cross_val_score(reg, new_X, np.array([y]).T, scoring='neg_mean_squared_error', cv = 10)))**0.5, abs(np.mean(sk_model_selection.cross_val_score(reg, new_X, np.array([y]).T, scoring='neg_mean_absolute_error', cv = 10))))"
   ]
  },
  {
   "cell_type": "markdown",
   "metadata": {},
   "source": [
    "## 岭回归"
   ]
  },
  {
   "cell_type": "code",
   "execution_count": 156,
   "metadata": {},
   "outputs": [
    {
     "name": "stdout",
     "output_type": "stream",
     "text": [
      "0.01 0.9989320197118629 0.7864822683161475\n",
      "0.1 0.9989318590364005 0.7864821104202532\n",
      "1 0.9989302523481902 0.786480531481001\n",
      "100 0.9987542514934634 0.7863070663809391\n",
      "1000 0.9972189954193057 0.7847689683418514\n",
      "10000 0.9867162636024968 0.7739578944436715\n",
      "100000 0.98495080483064 0.7698110176439829\n",
      "1000000 1.0318701069585452 0.8139866290794385\n"
     ]
    }
   ],
   "source": [
    "reg = linear_model.LinearRegression()\n",
    "\n",
    "for i in (0.01, 0.1, 1, 100, 1000, 10000, 100000, 1000000):\n",
    "    reg = linear_model.Ridge(alpha=i, max_iter=10000)\n",
    "    print(i, abs(np.mean(sk_model_selection.cross_val_score(reg, new_X, np.array([y]).T, scoring='neg_mean_squared_error', cv = 10)))**0.5, abs(np.mean(sk_model_selection.cross_val_score(reg, new_X, np.array([y]).T, scoring='neg_mean_absolute_error', cv = 10))))"
   ]
  },
  {
   "cell_type": "markdown",
   "metadata": {},
   "source": [
    "## 数据保存"
   ]
  },
  {
   "cell_type": "code",
   "execution_count": 157,
   "metadata": {},
   "outputs": [
    {
     "data": {
      "text/plain": [
       "0.9812222075876501"
      ]
     },
     "execution_count": 157,
     "metadata": {},
     "output_type": "execute_result"
    }
   ],
   "source": [
    "reg = linear_model.Lasso(alpha=0.01, max_iter=10000)\n",
    "reg.fit(new_X, y)\n",
    "y_fore = np.sum(new_X * reg.coef_, axis=1) + reg.intercept_  # 注意此时y是距平后的y\n",
    "for i in range(12):\n",
    "    y_fore[month_s[:-1] + i] += month_mean[i, 1925]\n",
    "1 - np.sum((y_fore - y_true) ** 2) / np.sum((y_true - np.average(y_true)) ** 2)  # 还原y后做NSE"
   ]
  },
  {
   "cell_type": "code",
   "execution_count": 158,
   "metadata": {},
   "outputs": [],
   "source": [
    "np.savetxt('y_fore.csv', y_fore, delimiter = ',')"
   ]
  }
 ],
 "metadata": {
  "kernelspec": {
   "display_name": "Python 3",
   "language": "python",
   "name": "python3"
  },
  "language_info": {
   "codemirror_mode": {
    "name": "ipython",
    "version": 3
   },
   "file_extension": ".py",
   "mimetype": "text/x-python",
   "name": "python",
   "nbconvert_exporter": "python",
   "pygments_lexer": "ipython3",
   "version": "3.6.5"
  }
 },
 "nbformat": 4,
 "nbformat_minor": 2
}
